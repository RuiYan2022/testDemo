{
 "cells": [
  {
   "cell_type": "markdown",
   "id": "5e1f569e-9ea6-47c0-92f8-9d5d397eae50",
   "metadata": {},
   "source": [
    "# Date: 2025-01-14\n",
    "# Basic Python Operation\n",
    "# If-Else\n",
    "# \n",
    "# add new information"
   ]
  },
  {
   "cell_type": "code",
   "execution_count": 17,
   "id": "b71686c0-88ac-4381-9b3d-01dd9cb12cf5",
   "metadata": {},
   "outputs": [
    {
     "name": "stdout",
     "output_type": "stream",
     "text": [
      "x = 10\n",
      "y = 12\n",
      "22\n",
      "-2\n",
      "120\n",
      "0.8333333333333334\n",
      "10\n",
      "0\n"
     ]
    }
   ],
   "source": [
    "x = 10  # '=': assign value\n",
    "print('x =', x)\n",
    "y = 12\n",
    "print('y =',y)\n",
    "print(x+y)\n",
    "print(x-y)\n",
    "print(x*y)\n",
    "print(x/y)\n",
    "print(x%y) #remainder\n",
    "print(x//y) #floor division"
   ]
  },
  {
   "cell_type": "code",
   "execution_count": 25,
   "id": "95d4e904-9f68-42e9-9603-200664f7e3ba",
   "metadata": {},
   "outputs": [
    {
     "name": "stdout",
     "output_type": "stream",
     "text": [
      "Give me a number 30\n"
     ]
    },
    {
     "name": "stdout",
     "output_type": "stream",
     "text": [
      "number is equal to 30\n"
     ]
    }
   ],
   "source": [
    "# if -else, if-elif-else\n",
    "#condition: >, <, >=, <=, \n",
    "number = int(input(\"Give me a number\"))\n",
    "if number > 30:\n",
    "    print(\"number is bigger than 30\")\n",
    "elif number <30:\n",
    "    print(\"number is less than 30\")\n",
    "else:\n",
    "    print(\"number is equal to 30\")"
   ]
  },
  {
   "cell_type": "code",
   "execution_count": null,
   "id": "2313f522-683f-4755-9091-49ca409a83aa",
   "metadata": {},
   "outputs": [],
   "source": [
    "#Exercise 1: check if a number is even"
   ]
  },
  {
   "cell_type": "code",
   "execution_count": null,
   "id": "838065e4-dc3d-4640-9509-8c9c907a1f4c",
   "metadata": {},
   "outputs": [],
   "source": [
    "# Exercise 2: create two variables var1, var2, \n",
    "# test if var1 can be dividied by var2 and output message"
   ]
  },
  {
   "cell_type": "code",
   "execution_count": null,
   "id": "f0afbd76-8b8a-48af-8a2c-e31bdbf7fa70",
   "metadata": {},
   "outputs": [],
   "source": [
    "# Exercise 3: check if a year is a leap year"
   ]
  },
  {
   "cell_type": "code",
   "execution_count": null,
   "id": "626080e6-3155-4b8a-a9e8-a93591b4a87c",
   "metadata": {},
   "outputs": [],
   "source": [
    "# bonus Exercise: \n",
    "# Determining the grade based on a student's score\n",
    "#\"A\": - 90+\n",
    "#\"B\": 80-90\n",
    "#\"C\": 70-79\n",
    "#\"D\": 60-69\n",
    "#\"F\": <60"
   ]
  },
  {
   "cell_type": "code",
   "execution_count": 27,
   "id": "26f835e3-bd44-4809-be92-781d4c1771bb",
   "metadata": {},
   "outputs": [
    {
     "name": "stdout",
     "output_type": "stream",
     "text": [
      "5 10\n"
     ]
    }
   ],
   "source": [
    "a, b = 5, 10 \n",
    "a, b = b, a  #10, 5\n",
    "a, b = b, a  #5, 10\n",
    "\n",
    "print(a, b)"
   ]
  },
  {
   "cell_type": "code",
   "execution_count": 29,
   "id": "ae741770-0de3-4c52-a292-a205039d4005",
   "metadata": {},
   "outputs": [
    {
     "name": "stdout",
     "output_type": "stream",
     "text": [
      "[2, 3, 4, 6]\n"
     ]
    }
   ],
   "source": [
    "apple, *orange, banana = [1, 2, 3, 4,6,  5]\n",
    "print(orange)"
   ]
  },
  {
   "cell_type": "markdown",
   "id": "a9bdba82-4b20-4f1f-aaf6-327d2f43edb1",
   "metadata": {},
   "source": [
    "# for-loop"
   ]
  },
  {
   "cell_type": "code",
   "execution_count": 33,
   "id": "9b446d2d-5d5e-4b49-8d88-2e0289895930",
   "metadata": {},
   "outputs": [
    {
     "name": "stdout",
     "output_type": "stream",
     "text": [
      "1 2 3 4 5 6 7 8 9 10 "
     ]
    }
   ],
   "source": [
    "#print numbers from 1 to 10\n",
    "for i in range(1,11):\n",
    "    print(i, end=' ')"
   ]
  },
  {
   "cell_type": "code",
   "execution_count": 39,
   "id": "5f8e587b-a0a9-429c-b3ca-6fb098557a16",
   "metadata": {},
   "outputs": [
    {
     "name": "stdout",
     "output_type": "stream",
     "text": [
      "1 4 9 16 25 36 49 64 81 100 \n",
      "1 4 9 16 25 36 49 64 81 100 "
     ]
    }
   ],
   "source": [
    "# print numbers from 1, 4, 9, 16, 25, ..100\n",
    "for i in range(1, 11):\n",
    "    print(i*i, end=' ')\n",
    "print()\n",
    "for i in range(1, 11):\n",
    "    print(i**2, end=' ')"
   ]
  },
  {
   "cell_type": "code",
   "execution_count": 43,
   "id": "9209172a-c3b5-4eda-a6c7-3d04ce9c5391",
   "metadata": {},
   "outputs": [
    {
     "name": "stdout",
     "output_type": "stream",
     "text": [
      "3 5 7 9 11 13 15 17 19 21 "
     ]
    }
   ],
   "source": [
    "#Print the sum of the current number and the next number\n",
    "# print 10 of these numbers from 3\n",
    "# expected output: 3 5 7 9 11 13 15 17,19,21\n",
    "\n",
    "# current, next, sum\n",
    "# 1, 2, 3\n",
    "# 2, 3, 5\n",
    "# i, i+1, 2*i+1\n",
    "\n",
    "for i in range(1, 11):\n",
    "    print(2*i+1, end=' ')"
   ]
  },
  {
   "cell_type": "code",
   "execution_count": 57,
   "id": "9a59e1b0-eac4-4a55-af25-2e350366d76b",
   "metadata": {},
   "outputs": [
    {
     "name": "stdout",
     "output_type": "stream",
     "text": [
      "1 3 5 7 9 11 13 15 17 19 21 23 25 27 29 \t 15\n"
     ]
    }
   ],
   "source": [
    "# Print the positive odd number under 30. \n",
    "# also print how many of these numbers\n",
    "\n",
    "count = 0\n",
    "for i in range(1, 31):\n",
    "    if i % 2 ==1:\n",
    "        print(i, end=' ' )\n",
    "        count += 1\n",
    "print('\\t', count)"
   ]
  },
  {
   "cell_type": "code",
   "execution_count": 59,
   "id": "908874d2-4179-470f-98c6-1fbcb858e3e4",
   "metadata": {},
   "outputs": [
    {
     "name": "stdout",
     "output_type": "stream",
     "text": [
      "408\n"
     ]
    }
   ],
   "source": [
    "# can you find how many numbers that can be divided by 12 between 100-5000 inclusive\n",
    "count = 0\n",
    "for i in range(100, 5001):\n",
    "    if i %12 ==0:\n",
    "        count+=1\n",
    "print(count)"
   ]
  },
  {
   "cell_type": "code",
   "execution_count": 75,
   "id": "836a4cab-60d7-41c0-b96a-8aa4cebbdd5c",
   "metadata": {},
   "outputs": [
    {
     "name": "stdout",
     "output_type": "stream",
     "text": [
      "25\n"
     ]
    }
   ],
   "source": [
    "# can you find how many prime numbers under 100\n",
    "#nested For loop\n",
    "count=0\n",
    "for number in range(2, 100):\n",
    "    isPrime = True #boolean : True or False\n",
    "    for i in range(2, number):\n",
    "        if number%i ==0:\n",
    "            isPrime = False\n",
    "    if isPrime: \n",
    "        count+=1\n",
    "print(count)"
   ]
  },
  {
   "cell_type": "code",
   "execution_count": 85,
   "id": "9ae8cd9d-849a-44ab-a903-c955bef52640",
   "metadata": {},
   "outputs": [
    {
     "name": "stdout",
     "output_type": "stream",
     "text": [
      " 8\n"
     ]
    },
    {
     "name": "stdout",
     "output_type": "stream",
     "text": [
      "8 is Prime ? False\n"
     ]
    }
   ],
   "source": [
    "def isPrime(n):\n",
    "    for i in range(2, n):\n",
    "        if n%i ==0:\n",
    "            return False\n",
    "    return True\n",
    "num = int(input())\n",
    "print(num, 'is Prime ?', isPrime(num))"
   ]
  },
  {
   "cell_type": "code",
   "execution_count": 87,
   "id": "0bb79b2f-6ffd-4a20-af1f-742bffebe496",
   "metadata": {},
   "outputs": [
    {
     "name": "stdout",
     "output_type": "stream",
     "text": [
      "25\n"
     ]
    }
   ],
   "source": [
    "\n",
    "count=0\n",
    "for number in range(2, 100):\n",
    "    if isPrime(number): \n",
    "        count+=1\n",
    "print(count)"
   ]
  },
  {
   "cell_type": "code",
   "execution_count": 73,
   "id": "c3d2ed15-ad3e-47dc-b137-f499cd19d790",
   "metadata": {},
   "outputs": [
    {
     "name": "stdout",
     "output_type": "stream",
     "text": [
      " 37\n"
     ]
    },
    {
     "name": "stdout",
     "output_type": "stream",
     "text": [
      "Prime\n"
     ]
    }
   ],
   "source": [
    "# test if a number is a prime\n",
    "number=int(input())\n",
    "isPrime = True #boolean : True or False\n",
    "for i in range(2, number):\n",
    "    if number%i ==0:\n",
    "        isPrime = False\n",
    "if not isPrime:\n",
    "    print(\"Not Prime\")\n",
    "else:\n",
    "    print(\"Prime\")"
   ]
  },
  {
   "cell_type": "markdown",
   "id": "b94de584-8622-403f-a8e8-88f7214618b7",
   "metadata": {},
   "source": [
    "# Exercise: Print this pattern:\n",
    "5 4 3 2 1 \n",
    "4 3 2 1 \n",
    "3 2 1 \n",
    "2 1 \n",
    "1"
   ]
  },
  {
   "cell_type": "code",
   "execution_count": 91,
   "id": "ab9dce78-e376-4ece-9ff6-a5adc98fa0b7",
   "metadata": {},
   "outputs": [
    {
     "name": "stdout",
     "output_type": "stream",
     "text": [
      "0 5 5\n",
      "0 4 5\n",
      "0 3 5\n",
      "0 2 5\n",
      "0 1 5\n",
      "\n",
      "1 4 4\n",
      "1 3 4\n",
      "1 2 4\n",
      "1 1 4\n",
      "\n",
      "2 3 3\n",
      "2 2 3\n",
      "2 1 3\n",
      "\n",
      "3 2 2\n",
      "3 1 2\n",
      "\n",
      "4 1 1\n",
      "\n",
      "\n"
     ]
    }
   ],
   "source": [
    "r = 5\n",
    "c = 5\n",
    "for i in range(0, r+1):\n",
    "    for j in range(c-i, 0, -1):\n",
    "        print(i, j, c-i)\n",
    "      #  print(j, end=' ' )\n",
    "    print()"
   ]
  },
  {
   "cell_type": "code",
   "execution_count": null,
   "id": "49edcc0e-36c9-4b38-bb3b-c61327d8a6cb",
   "metadata": {},
   "outputs": [],
   "source": [
    "#Exercise: Reverse a integer number\n",
    "Given: 76543  \n",
    "Print: 34567"
   ]
  },
  {
   "cell_type": "code",
   "execution_count": 95,
   "id": "3f58bb6c-5e63-4064-96b9-d7737df3b279",
   "metadata": {},
   "outputs": [
    {
     "name": "stdout",
     "output_type": "stream",
     "text": [
      "76543\n",
      "34567\n"
     ]
    }
   ],
   "source": [
    "s =\"76543\"\n",
    "print(s)\n",
    "print(s[::-1])"
   ]
  },
  {
   "cell_type": "code",
   "execution_count": 103,
   "id": "dbf7406f-8657-4779-9653-d6a02c722931",
   "metadata": {},
   "outputs": [
    {
     "name": "stdout",
     "output_type": "stream",
     "text": [
      "3 7654\n",
      "4 765\n",
      "5 76\n"
     ]
    }
   ],
   "source": [
    "number = 76543\n",
    "print(number%10, number//10)\n",
    "number = number//10\n",
    "print(number%10, number//10)\n",
    "number = number//10\n",
    "print(number%10, number//10)"
   ]
  },
  {
   "cell_type": "code",
   "execution_count": 107,
   "id": "704c3925-86f1-4ec2-92d8-552ca7efec60",
   "metadata": {},
   "outputs": [
    {
     "name": "stdout",
     "output_type": "stream",
     "text": [
      "34567"
     ]
    }
   ],
   "source": [
    "number = 76543\n",
    "while number >0:\n",
    "    remainder = number%10\n",
    "    print(remainder,end='')\n",
    "    number= number//10"
   ]
  }
 ],
 "metadata": {
  "kernelspec": {
   "display_name": "Python 3 (ipykernel)",
   "language": "python",
   "name": "python3"
  },
  "language_info": {
   "codemirror_mode": {
    "name": "ipython",
    "version": 3
   },
   "file_extension": ".py",
   "mimetype": "text/x-python",
   "name": "python",
   "nbconvert_exporter": "python",
   "pygments_lexer": "ipython3",
   "version": "3.12.4"
  }
 },
 "nbformat": 4,
 "nbformat_minor": 5
}
